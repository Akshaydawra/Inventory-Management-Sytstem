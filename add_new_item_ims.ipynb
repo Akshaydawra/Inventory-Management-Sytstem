{
  "nbformat": 4,
  "nbformat_minor": 0,
  "metadata": {
    "colab": {
      "name": "add new item ims.ipynb",
      "provenance": [],
      "collapsed_sections": [],
      "authorship_tag": "ABX9TyPzTpx5+Q7hCo14011Esnsp",
      "include_colab_link": true
    },
    "kernelspec": {
      "name": "python3",
      "display_name": "Python 3"
    },
    "language_info": {
      "name": "python"
    }
  },
  "cells": [
    {
      "cell_type": "markdown",
      "metadata": {
        "id": "view-in-github",
        "colab_type": "text"
      },
      "source": [
        "<a href=\"https://colab.research.google.com/github/Akshaydawra/Inventory-Management-Sytstem/blob/main/add_new_item_ims.ipynb\" target=\"_parent\"><img src=\"https://colab.research.google.com/assets/colab-badge.svg\" alt=\"Open In Colab\"/></a>"
      ]
    },
    {
      "cell_type": "code",
      "metadata": {
        "id": "SnASQdOXg4eM"
      },
      "source": [
        "fd=open(\"records.json\",'r')\n",
        "r=fd.read()\n",
        "fd.close()\n",
        "record=json.loads(r)"
      ],
      "execution_count": null,
      "outputs": []
    },
    {
      "cell_type": "code",
      "metadata": {
        "colab": {
          "base_uri": "https://localhost:8080/"
        },
        "id": "63CHdxwRheGy",
        "outputId": "60ab6c77-0e84-4e8f-cad3-f8c4f60027cd"
      },
      "source": [
        "import json\n",
        "record"
      ],
      "execution_count": null,
      "outputs": [
        {
          "output_type": "execute_result",
          "data": {
            "text/plain": [
              "{'1001': {'name': 'Cake', 'pr': 150, 'qn': 10},\n",
              " '1002': {'name': 'pasta', 'pr': 110, 'qn': 12},\n",
              " '1003': {'name': 'macroni', 'pr': 210, 'qn': 11},\n",
              " '1004': {'name': 'shake', 'pr': 110, 'qn': 10},\n",
              " '1005': {'name': 'burger', 'pr': 50, 'qn': 20},\n",
              " '1006': {'name': 'spring roll', 'pr': 80, 'qn': 10},\n",
              " '1007': {'name': 'momos', 'pr': 50, 'qn': 10},\n",
              " '1008': {'name': 'cold dirnk', 'pr': 30, 'qn': 20},\n",
              " '1009': {'name': 'coffee', 'pr': 40, 'qn': 12},\n",
              " '1010': {'name': 'pizza', 'pr': 250, 'qn': 10},\n",
              " '1011': {'name': 'dosa', 'pr': 110, 'qn': 10},\n",
              " '1012': {'name': 'idli', 'pr': 70, 'qn': 10},\n",
              " '1013': {'name': 'chowmin', 'pr': 50, 'qn': 10},\n",
              " '1014': {'name': 'water', 'pr': 15, 'qn': 30},\n",
              " '1015': {'name': 'cold coffee', 'pr': 150, 'qn': 10},\n",
              " '1016': {'name': 'paneer tikka', 'pr': 180, 'qn': 10},\n",
              " '1017': {'name': 'paneer roll', 'pr': 100, 'qn': 10},\n",
              " '1018': {'name': 'soya chaap', 'pr': 250, 'qn': 10},\n",
              " '1019': {'name': 'malai chaap', 'pr': 150, 'qn': 10},\n",
              " '1020': {'name': 'choco cake', 'pr': 350, 'qn': 10},\n",
              " '1021': {'name': 'candy', 'pr': 10, 'qn': 100},\n",
              " '1022': {'name': 'sandwich', 'pr': 20, 'q': 10},\n",
              " '1023': {'name': 'sweet', 'pr': 150, \"qn'\": 10},\n",
              " '1024': {'name': 'samosa', 'pr': 25, 'qn': 10},\n",
              " '1025': {\"name'\": 'chilly potato', 'pr': 120, 'qn': 10}}"
            ]
          },
          "metadata": {},
          "execution_count": 18
        }
      ]
    },
    {
      "cell_type": "code",
      "metadata": {
        "colab": {
          "base_uri": "https://localhost:8080/"
        },
        "id": "ZgwhuvJOh0T0",
        "outputId": "25f84ab3-e562-4f3d-f996-6ee3cbb7e11c"
      },
      "source": [
        "prod_id=str(input(\"enter product id:\"))\n",
        "name=str(input(\"enter name:\"))\n",
        "pr=int(input(\"enter price:\"))\n",
        "qn=int(input(\"enter quantity:\"))\n"
      ],
      "execution_count": null,
      "outputs": [
        {
          "name": "stdout",
          "output_type": "stream",
          "text": [
            "enter product id:1026\n",
            "enter name:chilly\n",
            "enter price:150\n",
            "enter quantity:12\n"
          ]
        }
      ]
    },
    {
      "cell_type": "code",
      "metadata": {
        "id": "oktmx2WwjGrk"
      },
      "source": [
        "record[prod_id]={\"name\":name,\"pr\":pr,\"qn\":qn}"
      ],
      "execution_count": null,
      "outputs": []
    },
    {
      "cell_type": "code",
      "metadata": {
        "colab": {
          "base_uri": "https://localhost:8080/"
        },
        "id": "1jaL-TT9jVdH",
        "outputId": "3908d218-39c4-4f54-f6e1-6ef5ac1cde6e"
      },
      "source": [
        "record"
      ],
      "execution_count": null,
      "outputs": [
        {
          "output_type": "execute_result",
          "data": {
            "text/plain": [
              "{'1001': {'name': 'Cake', 'pr': 150, 'qn': 10},\n",
              " '1002': {'name': 'pasta', 'pr': 110, 'qn': 12},\n",
              " '1003': {'name': 'macroni', 'pr': 210, 'qn': 11},\n",
              " '1004': {'name': 'shake', 'pr': 110, 'qn': 10},\n",
              " '1005': {'name': 'burger', 'pr': 50, 'qn': 20},\n",
              " '1006': {'name': 'spring roll', 'pr': 80, 'qn': 10},\n",
              " '1007': {'name': 'momos', 'pr': 50, 'qn': 10},\n",
              " '1008': {'name': 'cold dirnk', 'pr': 30, 'qn': 20},\n",
              " '1009': {'name': 'coffee', 'pr': 40, 'qn': 12},\n",
              " '1010': {'name': 'pizza', 'pr': 250, 'qn': 10},\n",
              " '1011': {'name': 'dosa', 'pr': 110, 'qn': 10},\n",
              " '1012': {'name': 'idli', 'pr': 70, 'qn': 10},\n",
              " '1013': {'name': 'chowmin', 'pr': 50, 'qn': 10},\n",
              " '1014': {'name': 'water', 'pr': 15, 'qn': 30},\n",
              " '1015': {'name': 'cold coffee', 'pr': 150, 'qn': 10},\n",
              " '1016': {'name': 'paneer tikka', 'pr': 180, 'qn': 10},\n",
              " '1017': {'name': 'paneer roll', 'pr': 100, 'qn': 10},\n",
              " '1018': {'name': 'soya chaap', 'pr': 250, 'qn': 10},\n",
              " '1019': {'name': 'malai chaap', 'pr': 150, 'qn': 10},\n",
              " '1020': {'name': 'choco cake', 'pr': 350, 'qn': 10},\n",
              " '1021': {'name': 'candy', 'pr': 10, 'qn': 100},\n",
              " '1022': {'name': 'sandwich', 'pr': 20, 'q': 10},\n",
              " '1023': {'name': 'sweet', 'pr': 150, \"qn'\": 10},\n",
              " '1024': {'name': 'samosa', 'pr': 25, 'qn': 10},\n",
              " '1025': {\"name'\": 'chilly potato', 'pr': 120, 'qn': 10},\n",
              " '1026': {'name': 'chilly', 'pr': 150, 'qn': 12}}"
            ]
          },
          "metadata": {},
          "execution_count": 22
        }
      ]
    },
    {
      "cell_type": "code",
      "metadata": {
        "colab": {
          "base_uri": "https://localhost:8080/"
        },
        "id": "2n68hL3akZwg",
        "outputId": "a6395762-68d8-4e44-f095-de434fb0ae0e"
      },
      "source": [
        "prod_id=str(input(\"enter product id:\"))\n",
        "name=input(\"enter the name:\")\n",
        "pr=int(input(\"enter the price\"))\n",
        "qn=int(input(\"enter the quantityi\"))\n",
        "record[prod_id]={\"name\":name,\"pr\":pr,\"qn\":qn}\n",
        "js=json.dumps(record)\n",
        "fd=open(\"records.json\",'w')\n",
        "fd.write(js)\n",
        "fd.close\n"
      ],
      "execution_count": null,
      "outputs": [
        {
          "name": "stdout",
          "output_type": "stream",
          "text": [
            "enter product id:1026\n",
            "enter the name:chilly\n",
            "enter the price150\n",
            "enter the quantityi12\n"
          ]
        },
        {
          "output_type": "execute_result",
          "data": {
            "text/plain": [
              "<function TextIOWrapper.close>"
            ]
          },
          "metadata": {},
          "execution_count": 23
        }
      ]
    },
    {
      "cell_type": "code",
      "metadata": {
        "id": "IW3Hrkwcm-Bg"
      },
      "source": [
        ""
      ],
      "execution_count": null,
      "outputs": []
    },
    {
      "cell_type": "code",
      "metadata": {
        "colab": {
          "base_uri": "https://localhost:8080/"
        },
        "id": "QgwWMESRm-MU",
        "outputId": "7905d437-5518-4998-da33-7928ef31c915"
      },
      "source": [
        "record"
      ],
      "execution_count": null,
      "outputs": [
        {
          "output_type": "execute_result",
          "data": {
            "text/plain": [
              "{'1001': {'name': 'Cake', 'pr': 150, 'qn': 10},\n",
              " '1002': {'name': 'pasta', 'pr': 110, 'qn': 12},\n",
              " '1003': {'name': 'macroni', 'pr': 210, 'qn': 11},\n",
              " '1004': {'name': 'shake', 'pr': 110, 'qn': 10},\n",
              " '1005': {'name': 'burger', 'pr': 50, 'qn': 20},\n",
              " '1006': {'name': 'spring roll', 'pr': 80, 'qn': 10},\n",
              " '1007': {'name': 'momos', 'pr': 50, 'qn': 10},\n",
              " '1008': {'name': 'cold dirnk', 'pr': 30, 'qn': 20},\n",
              " '1009': {'name': 'coffee', 'pr': 40, 'qn': 12},\n",
              " '1010': {'name': 'pizza', 'pr': 250, 'qn': 10},\n",
              " '1011': {'name': 'dosa', 'pr': 110, 'qn': 10},\n",
              " '1012': {'name': 'idli', 'pr': 70, 'qn': 10},\n",
              " '1013': {'name': 'chowmin', 'pr': 50, 'qn': 10},\n",
              " '1014': {'name': 'water', 'pr': 15, 'qn': 30},\n",
              " '1015': {'name': 'cold coffee', 'pr': 150, 'qn': 10},\n",
              " '1016': {'name': 'paneer tikka', 'pr': 180, 'qn': 10},\n",
              " '1017': {'name': 'paneer roll', 'pr': 100, 'qn': 10},\n",
              " '1018': {'name': 'soya chaap', 'pr': 250, 'qn': 10},\n",
              " '1019': {'name': 'malai chaap', 'pr': 150, 'qn': 10},\n",
              " '1020': {'name': 'choco cake', 'pr': 350, 'qn': 10},\n",
              " '1021': {'name': 'candy', 'pr': 10, 'qn': 100},\n",
              " '1022': {'name': 'sandwich', 'pr': 20, 'q': 10},\n",
              " '1023': {'name': 'sweet', 'pr': 150, \"qn'\": 10},\n",
              " '1024': {'name': 'samosa', 'pr': 25, 'qn': 10},\n",
              " '1025': {\"name'\": 'chilly potato', 'pr': 120, 'qn': 10},\n",
              " '1026': {'name': 'chilly', 'pr': 150, 'qn': 12}}"
            ]
          },
          "metadata": {},
          "execution_count": 24
        }
      ]
    }
  ]
}