{
  "nbformat": 4,
  "nbformat_minor": 0,
  "metadata": {
    "colab": {
      "name": "purcahse.ipynb",
      "provenance": [],
      "collapsed_sections": [],
      "authorship_tag": "ABX9TyMnKyqMrqPo3eL04Ec0zi1V",
      "include_colab_link": true
    },
    "kernelspec": {
      "name": "python3",
      "display_name": "Python 3"
    },
    "language_info": {
      "name": "python"
    }
  },
  "cells": [
    {
      "cell_type": "markdown",
      "metadata": {
        "id": "view-in-github",
        "colab_type": "text"
      },
      "source": [
        "<a href=\"https://colab.research.google.com/github/Akshaydawra/Inventory-Management-Sytstem/blob/main/purcahse.ipynb\" target=\"_parent\"><img src=\"https://colab.research.google.com/assets/colab-badge.svg\" alt=\"Open In Colab\"/></a>"
      ]
    },
    {
      "cell_type": "code",
      "metadata": {
        "id": "EVBnPkm-SPAB"
      },
      "source": [
        "import json\n",
        "fd=open(\"records.json\",'r')\n",
        "r=fd.read()\n",
        "fd.close()\n",
        "records=json.loads(r)"
      ],
      "execution_count": null,
      "outputs": []
    },
    {
      "cell_type": "code",
      "metadata": {
        "colab": {
          "base_uri": "https://localhost:8080/"
        },
        "id": "-amKIEmpSl5W",
        "outputId": "486e7f1a-1198-4791-81c8-6f34b2ab6b48"
      },
      "source": [
        "records\n"
      ],
      "execution_count": null,
      "outputs": [
        {
          "output_type": "execute_result",
          "data": {
            "text/plain": [
              "{'1001': {'name': 'Cake', 'pr': 150, 'qn': 10},\n",
              " '1002': {'name': 'pasta', 'pr': 110, 'qn': 12},\n",
              " '1003': {'name': 'macroni', 'pr': 210, 'qn': 11},\n",
              " '1004': {'name': 'shake', 'pr': 110, 'qn': 10},\n",
              " '1005': {'name': 'burger', 'pr': 50, 'qn': 20},\n",
              " '1006': {'name': 'spring roll', 'pr': 80, 'qn': 10},\n",
              " '1007': {'name': 'momos', 'pr': 50, 'qn': 10},\n",
              " '1008': {'name': 'cold dirnk', 'pr': 30, 'qn': 20},\n",
              " '1009': {'name': 'coffee', 'pr': 40, 'qn': 12},\n",
              " '1010': {'name': 'pizza', 'pr': 250, 'qn': 10},\n",
              " '1011': {'name': 'dosa', 'pr': 110, 'qn': 10},\n",
              " '1012': {'name': 'idli', 'pr': 70, 'qn': 10},\n",
              " '1013': {'name': 'chowmin', 'pr': 50, 'qn': 10},\n",
              " '1014': {'name': 'water', 'pr': 15, 'qn': 30},\n",
              " '1015': {'name': 'cold coffee', 'pr': 150, 'qn': 10},\n",
              " '1016': {'name': 'paneer tikka', 'pr': 180, 'qn': 10},\n",
              " '1017': {'name': 'paneer roll', 'pr': 100, 'qn': 10},\n",
              " '1018': {'name': 'soya chaap', 'pr': 250, 'qn': 10},\n",
              " '1019': {'name': 'malai chaap', 'pr': 150, 'qn': 10},\n",
              " '1020': {'name': 'choco cake', 'pr': 350, 'qn': 10},\n",
              " '1021': {'name': 'candy', 'pr': 10, 'qn': 100},\n",
              " '1022': {'name': 'sandwich', 'pr': 20, 'q': 10},\n",
              " '1023': {'name': 'sweet', 'pr': 150, \"qn'\": 10},\n",
              " '1024': {'name': 'samosa', 'pr': 25, 'qn': 10},\n",
              " '1025': {\"name'\": 'chilly potato', 'pr': 120, 'qn': 10}}"
            ]
          },
          "metadata": {},
          "execution_count": 6
        }
      ]
    },
    {
      "cell_type": "code",
      "metadata": {
        "colab": {
          "base_uri": "https://localhost:8080/"
        },
        "id": "c88OYcuNS9vm",
        "outputId": "ae962cad-90e2-4c39-83b8-773967d7f3e4"
      },
      "source": [
        "ui_prod =str(input(\"enter the product id:\"))\n",
        "ui_quant=int(input(\"enter the quantity:\"))\n",
        "print(\"product\",records[ui_prod][\"name\"])\n",
        "print(\"price\",records[ui_prod][\"pr\"])\n",
        "print(\"bill\",records[ui_prod][\"pr\"]*ui_quant)"
      ],
      "execution_count": null,
      "outputs": [
        {
          "output_type": "stream",
          "name": "stdout",
          "text": [
            "enter the product id:1001\n",
            "enter the quantity:2\n",
            "product Cake\n",
            "price 150\n",
            "bill 300\n"
          ]
        }
      ]
    },
    {
      "cell_type": "code",
      "metadata": {
        "id": "XCAp6g5DV0YK"
      },
      "source": [
        "records[ui_prod][\"qn\"]=records[ui_prod][\"qn\"]-ui_quant"
      ],
      "execution_count": null,
      "outputs": []
    },
    {
      "cell_type": "code",
      "metadata": {
        "colab": {
          "base_uri": "https://localhost:8080/"
        },
        "id": "GGrfdXP1WFyz",
        "outputId": "89a7672d-c484-4a13-ca68-3f6021e62f1e"
      },
      "source": [
        "records"
      ],
      "execution_count": null,
      "outputs": [
        {
          "output_type": "execute_result",
          "data": {
            "text/plain": [
              "{'1001': {'name': 'Cake', 'pr': 150, 'qn': 8},\n",
              " '1002': {'name': 'pasta', 'pr': 110, 'qn': 12},\n",
              " '1003': {'name': 'macroni', 'pr': 210, 'qn': 11},\n",
              " '1004': {'name': 'shake', 'pr': 110, 'qn': 10},\n",
              " '1005': {'name': 'burger', 'pr': 50, 'qn': 20},\n",
              " '1006': {'name': 'spring roll', 'pr': 80, 'qn': 10},\n",
              " '1007': {'name': 'momos', 'pr': 50, 'qn': 10},\n",
              " '1008': {'name': 'cold dirnk', 'pr': 30, 'qn': 20},\n",
              " '1009': {'name': 'coffee', 'pr': 40, 'qn': 12},\n",
              " '1010': {'name': 'pizza', 'pr': 250, 'qn': 10},\n",
              " '1011': {'name': 'dosa', 'pr': 110, 'qn': 10},\n",
              " '1012': {'name': 'idli', 'pr': 70, 'qn': 10},\n",
              " '1013': {'name': 'chowmin', 'pr': 50, 'qn': 10},\n",
              " '1014': {'name': 'water', 'pr': 15, 'qn': 30},\n",
              " '1015': {'name': 'cold coffee', 'pr': 150, 'qn': 10},\n",
              " '1016': {'name': 'paneer tikka', 'pr': 180, 'qn': 10},\n",
              " '1017': {'name': 'paneer roll', 'pr': 100, 'qn': 10},\n",
              " '1018': {'name': 'soya chaap', 'pr': 250, 'qn': 10},\n",
              " '1019': {'name': 'malai chaap', 'pr': 150, 'qn': 10},\n",
              " '1020': {'name': 'choco cake', 'pr': 350, 'qn': 10},\n",
              " '1021': {'name': 'candy', 'pr': 10, 'qn': 100},\n",
              " '1022': {'name': 'sandwich', 'pr': 20, 'q': 10},\n",
              " '1023': {'name': 'sweet', 'pr': 150, \"qn'\": 10},\n",
              " '1024': {'name': 'samosa', 'pr': 25, 'qn': 10},\n",
              " '1025': {\"name'\": 'chilly potato', 'pr': 120, 'qn': 10}}"
            ]
          },
          "metadata": {},
          "execution_count": 21
        }
      ]
    },
    {
      "cell_type": "code",
      "metadata": {
        "id": "Q140LWI7WXeD"
      },
      "source": [
        ""
      ],
      "execution_count": null,
      "outputs": []
    },
    {
      "cell_type": "markdown",
      "metadata": {
        "id": "JBijNJYPWZhm"
      },
      "source": [
        "UPDATED RECORDS AFTER PURCHASING"
      ]
    },
    {
      "cell_type": "code",
      "metadata": {
        "id": "e4EUBgM3WhAr"
      },
      "source": [
        "js=json.dumps(records)\n",
        "fd=open(\"records.json\",\"w\")\n",
        "fd.write(js)\n",
        "fd.close()"
      ],
      "execution_count": null,
      "outputs": []
    },
    {
      "cell_type": "markdown",
      "metadata": {
        "id": "E92olOroXQ9y"
      },
      "source": [
        "SALES JSON"
      ]
    },
    {
      "cell_type": "code",
      "metadata": {
        "colab": {
          "base_uri": "https://localhost:8080/"
        },
        "id": "kJQVcohNXVL4",
        "outputId": "bca1bf7e-cf65-4997-a759-633750f63654"
      },
      "source": [
        "{\"prod\":ui_prod,\"qn\":ui_quant,\"amount\":records[ui_prod][\"pr\"]*ui_quant}"
      ],
      "execution_count": null,
      "outputs": [
        {
          "output_type": "execute_result",
          "data": {
            "text/plain": [
              "{'amount': 300, 'prod': '1001', 'qn': 2}"
            ]
          },
          "metadata": {},
          "execution_count": 27
        }
      ]
    },
    {
      "cell_type": "markdown",
      "metadata": {
        "id": "NGi9A4lxYNJ3"
      },
      "source": [
        ""
      ]
    },
    {
      "cell_type": "code",
      "metadata": {
        "id": "myEZR0M1XxSl"
      },
      "source": [
        "sales={1:{\"prod\":ui_prod,\"qn\":ui_quant,\"amount\":records[ui_prod][\"pr\"]*ui_quant},\n",
        "       2:{\"prod\":ui_prod,\"qn\":ui_quant,\"amount\":records[ui_prod][\"pr\"]*ui_quant},\n",
        "       3:{\"prod\":ui_prod,\"qn\":ui_quant,\"amount\":records[ui_prod][\"pr\"]*ui_quant}}"
      ],
      "execution_count": null,
      "outputs": []
    },
    {
      "cell_type": "code",
      "metadata": {
        "colab": {
          "base_uri": "https://localhost:8080/",
          "height": 52
        },
        "id": "Zqt7X9sdY6wY",
        "outputId": "bd3c546d-74ce-487d-e652-f2c3152bd33b"
      },
      "source": [
        "sale=json.dumps(sales)\n",
        "sale"
      ],
      "execution_count": null,
      "outputs": [
        {
          "output_type": "execute_result",
          "data": {
            "application/vnd.google.colaboratory.intrinsic+json": {
              "type": "string"
            },
            "text/plain": [
              "'{\"1\": {\"prod\": \"1001\", \"qn\": 2, \"amount\": 300}, \"2\": {\"prod\": \"1001\", \"qn\": 2, \"amount\": 300}, \"3\": {\"prod\": \"1001\", \"qn\": 2, \"amount\": 300}}'"
            ]
          },
          "metadata": {},
          "execution_count": 31
        }
      ]
    },
    {
      "cell_type": "code",
      "metadata": {
        "id": "ELpaZaq2ZNMT"
      },
      "source": [
        "fd=open(\"records.json\",'r')\n",
        "r=fd.read()\n",
        "fd.close()\n"
      ],
      "execution_count": null,
      "outputs": []
    },
    {
      "cell_type": "code",
      "metadata": {
        "colab": {
          "base_uri": "https://localhost:8080/"
        },
        "id": "4QMjFb9GZv_X",
        "outputId": "c4e44262-c6f1-49b0-9977-08cb5737d795"
      },
      "source": [
        "records"
      ],
      "execution_count": null,
      "outputs": [
        {
          "output_type": "execute_result",
          "data": {
            "text/plain": [
              "{'1001': {'name': 'Cake', 'pr': 150, 'qn': 8},\n",
              " '1002': {'name': 'pasta', 'pr': 110, 'qn': 12},\n",
              " '1003': {'name': 'macroni', 'pr': 210, 'qn': 11},\n",
              " '1004': {'name': 'shake', 'pr': 110, 'qn': 10},\n",
              " '1005': {'name': 'burger', 'pr': 50, 'qn': 20},\n",
              " '1006': {'name': 'spring roll', 'pr': 80, 'qn': 10},\n",
              " '1007': {'name': 'momos', 'pr': 50, 'qn': 10},\n",
              " '1008': {'name': 'cold dirnk', 'pr': 30, 'qn': 20},\n",
              " '1009': {'name': 'coffee', 'pr': 40, 'qn': 12},\n",
              " '1010': {'name': 'pizza', 'pr': 250, 'qn': 10},\n",
              " '1011': {'name': 'dosa', 'pr': 110, 'qn': 10},\n",
              " '1012': {'name': 'idli', 'pr': 70, 'qn': 10},\n",
              " '1013': {'name': 'chowmin', 'pr': 50, 'qn': 10},\n",
              " '1014': {'name': 'water', 'pr': 15, 'qn': 30},\n",
              " '1015': {'name': 'cold coffee', 'pr': 150, 'qn': 10},\n",
              " '1016': {'name': 'paneer tikka', 'pr': 180, 'qn': 10},\n",
              " '1017': {'name': 'paneer roll', 'pr': 100, 'qn': 10},\n",
              " '1018': {'name': 'soya chaap', 'pr': 250, 'qn': 10},\n",
              " '1019': {'name': 'malai chaap', 'pr': 150, 'qn': 10},\n",
              " '1020': {'name': 'choco cake', 'pr': 350, 'qn': 10},\n",
              " '1021': {'name': 'candy', 'pr': 10, 'qn': 100},\n",
              " '1022': {'name': 'sandwich', 'pr': 20, 'q': 10},\n",
              " '1023': {'name': 'sweet', 'pr': 150, \"qn'\": 10},\n",
              " '1024': {'name': 'samosa', 'pr': 25, 'qn': 10},\n",
              " '1025': {\"name'\": 'chilly potato', 'pr': 120, 'qn': 10}}"
            ]
          },
          "metadata": {},
          "execution_count": 33
        }
      ]
    }
  ]
}